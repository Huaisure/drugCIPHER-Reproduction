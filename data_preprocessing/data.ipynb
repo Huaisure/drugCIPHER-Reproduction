{
 "cells": [
  {
   "cell_type": "code",
   "execution_count": 9,
   "metadata": {},
   "outputs": [],
   "source": [
    "import pandas as pd\n",
    "\n",
    "df = pd.read_csv(\"data_atc.csv\")\n",
    "df = df.drop_duplicates(subset=[\"dg_id\"])\n",
    "df.drop(columns=[\"Unnamed: 0\"], inplace=True)\n",
    "df = df[df[\"dg_atc_codes\"].apply(lambda x: x != \"[]\")].reset_index(\n",
    "        drop=True\n",
    "    )\n",
    "df.to_csv(\"data_atc.csv\",index=False)"
   ]
  }
 ],
 "metadata": {
  "kernelspec": {
   "display_name": "pytorch",
   "language": "python",
   "name": "python3"
  },
  "language_info": {
   "codemirror_mode": {
    "name": "ipython",
    "version": 3
   },
   "file_extension": ".py",
   "mimetype": "text/x-python",
   "name": "python",
   "nbconvert_exporter": "python",
   "pygments_lexer": "ipython3",
   "version": "3.8.18"
  }
 },
 "nbformat": 4,
 "nbformat_minor": 2
}
